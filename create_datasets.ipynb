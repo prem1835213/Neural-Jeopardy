{
 "cells": [
  {
   "cell_type": "code",
   "execution_count": 1,
   "id": "c2fee74f",
   "metadata": {},
   "outputs": [],
   "source": [
    "import os\n",
    "import json\n",
    "import torch\n",
    "import torchtext as text\n",
    "import sys\n",
    "import tqdm\n",
    "from datasets import load_dataset\n",
    "import pandas as pd\n",
    "import string\n",
    "from torchtext.data import get_tokenizer\n",
    "from vocab import *\n",
    "from utils import *\n",
    "\n",
    "from tqdm.notebook import tqdm"
   ]
  },
  {
   "cell_type": "code",
   "execution_count": null,
   "id": "e34185c3",
   "metadata": {
    "scrolled": true
   },
   "outputs": [],
   "source": [
    "dataset = load_dataset(\"squad\")\n",
    "\n",
    "train_dic = {'passage': [], 'question': [], 'answer': []}\n",
    "for i in range(len(dataset['train'])):\n",
    "    datum = dataset['train'][i]\n",
    "    for j in range(len(datum['answers']['text'])):\n",
    "        train_dic['passage'].append(datum['context'])\n",
    "        train_dic['question'].append(datum['question'])\n",
    "        train_dic['answer'].append(datum['answers']['text'][j])\n",
    "\n",
    "train = pd.DataFrame(train_dic)\n",
    "\n",
    "val_dic = {'passage': [], 'question': [], 'answer': []}\n",
    "for datum in dataset['validation']:\n",
    "    for elem in datum['answers']['text']:\n",
    "        ans_id = 0\n",
    "        val_dic['passage'].append(datum['context'])\n",
    "        val_dic['question'].append(datum['question'])\n",
    "        val_dic['answer'].append(elem)\n",
    "\n",
    "val = pd.DataFrame(val_dic)"
   ]
  },
  {
   "cell_type": "code",
   "execution_count": null,
   "id": "70fa0515",
   "metadata": {},
   "outputs": [],
   "source": [
    "for i in tqdm(range(len(train))):\n",
    "    row = train.iloc[i]\n",
    "    passage = clean_text(row['passage'].lower())\n",
    "    question = clean_text(row['question'].lower())\n",
    "    answer = clean_text(row['answer'].lower())\n",
    "    \n",
    "    train.iloc[i]['passage'] = passage\n",
    "    train.iloc[i]['question'] = question\n",
    "    train.iloc[i]['answer'] = answer\n",
    "    \n",
    "for i in tqdm(range(len(val))):\n",
    "    row = val.iloc[i]\n",
    "    passage = clean_text(row['passage'].lower())\n",
    "    question = clean_text(row['question'].lower())\n",
    "    answer = clean_text(row['answer'].lower())\n",
    "    \n",
    "    val.iloc[i]['passage'] = passage\n",
    "    val.iloc[i]['question'] = question\n",
    "    val.iloc[i]['answer'] = answer"
   ]
  },
  {
   "cell_type": "code",
   "execution_count": null,
   "id": "b5059d5c",
   "metadata": {},
   "outputs": [],
   "source": [
    "train.to_csv('./data/train.csv', index=False)\n",
    "val.to_csv('./data/dev.csv', index=False)"
   ]
  },
  {
   "cell_type": "code",
   "execution_count": 2,
   "id": "b61acf74",
   "metadata": {},
   "outputs": [
    {
     "name": "stdout",
     "output_type": "stream",
     "text": [
      "Building Vocabulary\n",
      "Saved the vocab.\n"
     ]
    }
   ],
   "source": [
    "vocab = build_vocab()"
   ]
  }
 ],
 "metadata": {
  "kernelspec": {
   "display_name": "Python 3 (clean)",
   "language": "python",
   "name": "python3_clean"
  },
  "language_info": {
   "codemirror_mode": {
    "name": "ipython",
    "version": 3
   },
   "file_extension": ".py",
   "mimetype": "text/x-python",
   "name": "python",
   "nbconvert_exporter": "python",
   "pygments_lexer": "ipython3",
   "version": "3.9.5"
  }
 },
 "nbformat": 4,
 "nbformat_minor": 5
}
